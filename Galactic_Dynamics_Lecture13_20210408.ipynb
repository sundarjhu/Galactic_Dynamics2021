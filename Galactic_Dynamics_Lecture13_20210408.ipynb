{
  "nbformat": 4,
  "nbformat_minor": 0,
  "metadata": {
    "colab": {
      "name": "Untitled6.ipynb",
      "provenance": [],
      "collapsed_sections": [],
      "authorship_tag": "ABX9TyMUJ31pO2eadztI4Ee2cPd4",
      "include_colab_link": true
    },
    "kernelspec": {
      "name": "python3",
      "display_name": "Python 3"
    },
    "language_info": {
      "name": "python"
    }
  },
  "cells": [
    {
      "cell_type": "markdown",
      "metadata": {
        "id": "view-in-github",
        "colab_type": "text"
      },
      "source": [
        "<a href=\"https://colab.research.google.com/github/sundarjhu/Galactic_Dynamics2021/blob/main/Galactic_Dynamics_Lecture13_20210408.ipynb\" target=\"_parent\"><img src=\"https://colab.research.google.com/assets/colab-badge.svg\" alt=\"Open In Colab\"/></a>"
      ]
    },
    {
      "cell_type": "code",
      "metadata": {
        "colab": {
          "base_uri": "https://localhost:8080/",
          "height": 733
        },
        "id": "0put5Z9Q7VaY",
        "outputId": "5d4bc9db-5f9b-4e29-cb2c-3aa83d11ddff"
      },
      "source": [
        "import warnings\n",
        "warnings.filterwarnings('ignore')\n",
        "import numpy\n",
        "import astropy.units as u\n",
        "!pip install -U --no-deps git+git://github.com/jobovy/galpy.git#egg=galpy\n",
        "from galpy.util import plot as galpy_plot\n",
        "galpy_plot.start_print(axes_labelsize=17.,text_fontsize=12., xtick_labelsize=15.,ytick_labelsize=15.)\n",
        "%pylab inline\n",
        "\n",
        "#The following is necessary for LaTeX to cooperate with galpy's plotting routines\n",
        "! sudo apt-get install texlive-latex-recommended \n",
        "! sudo apt install texlive-latex-extra\n",
        "! sudo apt install dvipng\n",
        "! sudo apt install cm-super"
      ],
      "execution_count": null,
      "outputs": [
        {
          "output_type": "stream",
          "text": [
            "Collecting galpy\n",
            "  Cloning git://github.com/jobovy/galpy.git to /tmp/pip-install-8m539zny/galpy\n",
            "  Running command git clone -q git://github.com/jobovy/galpy.git /tmp/pip-install-8m539zny/galpy\n",
            "Building wheels for collected packages: galpy\n",
            "  Building wheel for galpy (setup.py) ... \u001b[?25l\u001b[?25hdone\n",
            "  Created wheel for galpy: filename=galpy-1.7.0.dev0-cp37-none-any.whl size=601766 sha256=888e42d01561644e47ce63586e92f6f53219a0ac5d11f7a77260d9f3aafdf788\n",
            "  Stored in directory: /tmp/pip-ephem-wheel-cache-e2rw892n/wheels/13/ec/bc/a8043c6ab080e5ff219e2be7cc9effc3ae37f604330a5bd2f2\n",
            "Successfully built galpy\n",
            "Installing collected packages: galpy\n",
            "  Found existing installation: galpy 1.7.0.dev0\n",
            "    Uninstalling galpy-1.7.0.dev0:\n",
            "      Successfully uninstalled galpy-1.7.0.dev0\n",
            "Successfully installed galpy-1.7.0.dev0\n"
          ],
          "name": "stdout"
        },
        {
          "output_type": "display_data",
          "data": {
            "application/vnd.colab-display-data+json": {
              "pip_warning": {
                "packages": [
                  "galpy"
                ]
              }
            }
          },
          "metadata": {
            "tags": []
          }
        },
        {
          "output_type": "stream",
          "text": [
            "Populating the interactive namespace from numpy and matplotlib\n",
            "Reading package lists... Done\n",
            "Building dependency tree       \n",
            "Reading state information... Done\n",
            "texlive-latex-recommended is already the newest version (2017.20180305-1).\n",
            "0 upgraded, 0 newly installed, 0 to remove and 30 not upgraded.\n",
            "Reading package lists... Done\n",
            "Building dependency tree       \n",
            "Reading state information... Done\n",
            "texlive-latex-extra is already the newest version (2017.20180305-2).\n",
            "0 upgraded, 0 newly installed, 0 to remove and 30 not upgraded.\n",
            "Reading package lists... Done\n",
            "Building dependency tree       \n",
            "Reading state information... Done\n",
            "dvipng is already the newest version (1.15-1).\n",
            "0 upgraded, 0 newly installed, 0 to remove and 30 not upgraded.\n",
            "Reading package lists... Done\n",
            "Building dependency tree       \n",
            "Reading state information... Done\n",
            "cm-super is already the newest version (0.3.4-11).\n",
            "0 upgraded, 0 newly installed, 0 to remove and 30 not upgraded.\n"
          ],
          "name": "stdout"
        }
      ]
    },
    {
      "cell_type": "markdown",
      "metadata": {
        "id": "5cyOe4gF5xHu"
      },
      "source": [
        "#Orbits for a range of x/Rc values, showing the transition from box orbits to loop orbits."
      ]
    },
    {
      "cell_type": "code",
      "metadata": {
        "id": "-wAEPUdLNCRM"
      },
      "source": [
        "from galpy.potential import LogarithmicHaloPotential\n",
        "from galpy.orbit import Orbit\n",
        "ts = numpy.linspace(0., 50, 601)\n",
        "q = 0.9\n",
        "Rc = 0.2\n",
        "lp = LogarithmicHaloPotential(normalize = True, b = q, core = Rc) #b is q, the flattening parameter\n",
        "#Initial conditions: (x, y) = (xmax, 0), vx = 0, vy = circular velocity at initial x if potential were axisymmetric\n",
        "xmaxes = np.array([0.1, 0.5, 0.775, 0.8, 1.2, 5]) * Rc\n",
        "for xmax in xmaxes:\n",
        "  ymax = xmax / q\n",
        "  o = Orbit([xmax, 0., lp.vcirc(xmax, phi = 0.), 0.])\n",
        "  o.integrate(ts, lp)\n",
        "  #o.animate()#; # remove the ; to display the animation\n",
        "  o.plot(xrange = [-1.2 * xmax, 1.2 * xmax], yrange = [-1.2 * ymax, 1.2 * ymax])\n",
        "  title('x = {} Rc'.format(np.round(xmax / Rc, decimals = 2)))"
      ],
      "execution_count": null,
      "outputs": []
    }
  ]
}