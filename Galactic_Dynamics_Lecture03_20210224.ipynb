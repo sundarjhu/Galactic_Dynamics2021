{
  "nbformat": 4,
  "nbformat_minor": 0,
  "metadata": {
    "colab": {
      "name": "Galactic_Dynamics_Lecture03_20210224.ipynb",
      "provenance": [],
      "collapsed_sections": []
    },
    "kernelspec": {
      "name": "python3",
      "display_name": "Python 3"
    }
  },
  "cells": [
    {
      "cell_type": "code",
      "metadata": {
        "id": "CCeHhFjMKKyU",
        "colab": {
          "base_uri": "https://localhost:8080/"
        },
        "outputId": "0798d538-eb81-4666-c1b1-9d9e3c031c51"
      },
      "source": [
        "from astropy import units as u\n",
        "from astropy import constants as const\n",
        "import numpy as np\n",
        "R = 10 * u.kpc\n",
        "r = 1 * const.R_sun\n",
        "N = 1e10\n",
        "v = 220 * u.km / u.s\n",
        "tcoll = (R/r)**2 * (R/v) * 1/(3 * N)\n",
        "print(\"The collision timescale is {}\".format((np.format_float_scientific(tcoll.to('Gyr').value, precision = 3)) * u.Gyr))"
      ],
      "execution_count": 12,
      "outputs": [
        {
          "output_type": "stream",
          "text": [
            "The collision timescale is 2.914e+11 Gyr\n"
          ],
          "name": "stdout"
        }
      ]
    },
    {
      "cell_type": "code",
      "metadata": {
        "id": "ycx85AmtKLeZ",
        "colab": {
          "base_uri": "https://localhost:8080/"
        },
        "outputId": "399d6959-347d-40fb-cf10-f265ca726b5a"
      },
      "source": [
        "R = 10 * u.kpc\n",
        "N = 1e10\n",
        "b_min = R/N #minimum impact parameter\n",
        "print(\"The minimum impact parameter is {} Rsun\".format(np.round(b_min.to('m') / const.R_sun, decimals = 3)))"
      ],
      "execution_count": 16,
      "outputs": [
        {
          "output_type": "stream",
          "text": [
            "The minimum impact parameter is 44.354 Rsun\n"
          ],
          "name": "stdout"
        }
      ]
    },
    {
      "cell_type": "code",
      "metadata": {
        "id": "1tEpncMv3WAl"
      },
      "source": [
        ""
      ],
      "execution_count": null,
      "outputs": []
    }
  ]
}